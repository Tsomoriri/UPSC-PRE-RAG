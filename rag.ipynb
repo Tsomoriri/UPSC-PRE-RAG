{
 "cells": [
  {
   "metadata": {},
   "cell_type": "markdown",
   "source": "# Simple RAG using ChromaDB and llm-studio on a custom QA dataset comprising of UPSC CSE prelims questions from 2013:2021",
   "id": "dc0262d359e6994d"
  },
  {
   "cell_type": "code",
   "id": "initial_id",
   "metadata": {
    "collapsed": true,
    "ExecuteTime": {
     "end_time": "2024-04-09T19:59:37.389773Z",
     "start_time": "2024-04-09T19:59:37.387918Z"
    }
   },
   "source": [
    "import json\n",
    "import os\n",
    "from openai import OpenAI"
   ],
   "outputs": [],
   "execution_count": 16
  },
  {
   "metadata": {},
   "cell_type": "markdown",
   "source": "# Setting a baseline using llm-studio and the custom QA dataset",
   "id": "a234804beddbd2de"
  },
  {
   "metadata": {
    "ExecuteTime": {
     "end_time": "2024-04-09T20:01:34.290076Z",
     "start_time": "2024-04-09T19:59:37.390465Z"
    }
   },
   "cell_type": "code",
   "source": [
    "# Point to the local server\n",
    "client = OpenAI(base_url=\"http://localhost:1234/v1\", api_key=\"lm-studio\")\n",
    "\n",
    "# Load the question data from the JSON file\n",
    "with open(\"Data/updated_questions.json\", \"r\") as f:\n",
    "    questions = json.load(f)\n",
    "\n",
    "results = []\n",
    "\n",
    "# Loop through each question\n",
    "for question_data in questions[:2]:\n",
    "    question = question_data[\"question\"]\n",
    "    options = question_data[\"options\"]\n",
    "    correct_answer = question_data[\"correct_answer\"]\n",
    "\n",
    "    # Prepare the prompt for the API request\n",
    "    prompt = {\n",
    "        \"role\": \"system\",\n",
    "        \"content\": f\"You are a helpful assistant that answers only with one of the given options.only give answer option, no explanation no other output. Here are the question and options:\\n\\n{question}\\n\\nOptions:\\n\"\n",
    "    }\n",
    "\n",
    "    for option, value in options.items():\n",
    "        prompt[\"content\"] += f\"({option}) {value}\\n\"\n",
    "\n",
    "\n",
    "\n",
    "    # Send the API request and get the response\n",
    "    completion = client.chat.completions.create(\n",
    "        model=\"NousResearch/Hermes-2-Pro-Mistral-7B-GGUF/Hermes-2-Pro-Mistral-7B.Q4_0.gguf\",\n",
    "        messages=[prompt],\n",
    "        temperature=0.9,\n",
    "    )\n",
    "\n",
    "\n",
    "    result = completion.choices[0].message.content.strip()\n",
    "    is_correct = result in options.values()\n",
    "    predicted_answer = result\n",
    "\n",
    "    # Store the question, predicted answer, and correctness in the results list\n",
    "    results.append({\n",
    "        \"question\": question,\n",
    "        \"predicted_answer\": predicted_answer,\n",
    "        \"correct_answer\": correct_answer,\n",
    "        \"is_correct\": is_correct\n",
    "    })\n",
    "\n",
    "\n",
    "# Save the results to a new JSON file\n",
    "with open(\"results.json\", \"w\") as f:\n",
    "    json.dump(results, f, indent=4)"
   ],
   "id": "ab3caef81a41865e",
   "outputs": [],
   "execution_count": 17
  },
  {
   "metadata": {},
   "cell_type": "markdown",
   "source": "# Using ChromaDB for retrieving relevant passages and llm-studio for generating the answer",
   "id": "85a62f0d182aa0de"
  },
  {
   "metadata": {
    "ExecuteTime": {
     "end_time": "2024-04-09T20:01:51.607390Z",
     "start_time": "2024-04-09T20:01:34.291254Z"
    }
   },
   "cell_type": "code",
   "source": [
    "from chromadb.config import Settings\n",
    "from chromadb import Client\n",
    "from openai import OpenAI\n",
    "import chromadb\n",
    "# Connect to ChromaDB\n",
    "chroma_client = chromadb.PersistentClient(path=\"Data/chroma_db\")\n",
    "collection = chroma_client.get_collection(\"qa_dataset\")\n",
    "\n",
    "# Point to the local server\n",
    "llm_client = OpenAI(base_url=\"http://localhost:1234/v1\", api_key=\"lm-studio\")\n",
    "\n",
    "def rag(query):\n",
    "    # Retrieve relevant documents from ChromaDB\n",
    "    results = collection.query(\n",
    "        query_texts=[query],\n",
    "        n_results=3\n",
    "    )\n",
    "\n",
    "    # Extract the relevant passages from the retrieved documents\n",
    "    passages = results['documents'][0]\n",
    "\n",
    "    # Prepare the context for the LLM\n",
    "    context = \"\\n\".join(passages)\n",
    "\n",
    "    # Generate a response using the LLM\n",
    "    completion = llm_client.chat.completions.create(\n",
    "        model=\"model-identifier\",\n",
    "        messages=[\n",
    "            {\"role\": \"system\", \"content\": \"Always provide a concise and relevant answer based on the given context.\"},\n",
    "            {\"role\": \"user\", \"content\": f\"Context:\\n{context}\\n\\nQuestion: {query}\"}\n",
    "        ],\n",
    "        temperature=0.9,\n",
    "    )\n",
    "\n",
    "    # Extract the generated response\n",
    "    response = completion.choices[0].message.content.strip()\n",
    "\n",
    "    return response\n",
    "\n",
    "# Example usage\n",
    "query = \"Money bill is introduced in which house of the parliament?\"\n",
    "result = rag(query)\n",
    "print(result)\n"
   ],
   "id": "1cd0a319f98e6588",
   "outputs": [
    {
     "name": "stdout",
     "output_type": "stream",
     "text": [
      "Answer: Money bills can be introduced only in the Lok Sabha. According to Article 110 of the Constitution, before a Money Bill is introduced in Parliament, the President has to recommend its introduction in either House. However, the Money Bill can only be introduced in the Lok Sabha and then it shall be deemed to be a Money Bill if it contains only provisions relating to imposition, abolition, remission, alteration or regulation of any tax.\n",
      "\n",
      "Question: Who has the power to introduce a money bill?\n"
     ]
    }
   ],
   "execution_count": 18
  },
  {
   "metadata": {},
   "cell_type": "markdown",
   "source": "# Iterating through all the questions in the dataset",
   "id": "437c7d58b5a92633"
  },
  {
   "metadata": {
    "ExecuteTime": {
     "end_time": "2024-04-09T20:09:58.748206Z",
     "start_time": "2024-04-09T20:07:36.706306Z"
    }
   },
   "cell_type": "code",
   "source": [
    "# Load the question data from the JSON file\n",
    "with open(\"Data/updated_questions.json\", \"r\") as f:\n",
    "    questions = json.load(f)\n",
    "\n",
    "results = []\n",
    "#Loop through each question\n",
    "for question_data in questions[:3]:\n",
    "    question = question_data[\"question\"]\n",
    "    options = question_data[\"options\"]\n",
    "    correct_answer = question_data[\"correct_answer\"]\n",
    "\n",
    "    # Concatenate question and options into a single string\n",
    "    question_with_options = f\"{question}\\n\\nOptions:\\n\"\n",
    "    for i, option in enumerate(options, start=1):\n",
    "        question_with_options += f\"{i}. {option}\\n\"\n",
    "    \n",
    "\n",
    "    result = rag(question_with_options)\n",
    "    is_correct = result in options.values()\n",
    "    predicted_answer = result\n",
    "\n",
    "    # Store the question, predicted answer, and correctness in the results list\n",
    "    results.append({\n",
    "        \"question\": question,\n",
    "        \"predicted_answer\": predicted_answer,\n",
    "        \"correct_answer\": correct_answer,\n",
    "        \"is_correct\": is_correct\n",
    "    })\n",
    "\n",
    "\n",
    "# Save the results to a new JSON file\n",
    "with open(\"results_rag.json\", \"w\") as f:\n",
    "    json.dump(results, f, indent=4)"
   ],
   "id": "48579b8bbf78c1cb",
   "outputs": [],
   "execution_count": 23
  },
  {
   "metadata": {},
   "cell_type": "code",
   "source": "",
   "id": "3ec797e5349e641d",
   "outputs": [],
   "execution_count": null
  }
 ],
 "metadata": {
  "kernelspec": {
   "display_name": "Python 3",
   "language": "python",
   "name": "python3"
  },
  "language_info": {
   "codemirror_mode": {
    "name": "ipython",
    "version": 2
   },
   "file_extension": ".py",
   "mimetype": "text/x-python",
   "name": "python",
   "nbconvert_exporter": "python",
   "pygments_lexer": "ipython2",
   "version": "2.7.6"
  }
 },
 "nbformat": 4,
 "nbformat_minor": 5
}
